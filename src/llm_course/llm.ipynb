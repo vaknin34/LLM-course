{
 "cells": [
  {
   "cell_type": "code",
   "execution_count": 3,
   "id": "a864dc31",
   "metadata": {},
   "outputs": [],
   "source": [
    "from transformers import AutoTokenizer\n",
    "\n",
    "# These will use different templates automatically\n",
    "mistral_tokenizer = AutoTokenizer.from_pretrained(\"mistralai/Mistral-7B-Instruct-v0.1\")\n",
    "smol_tokenizer = AutoTokenizer.from_pretrained(\"HuggingFaceTB/SmolLM2-135M-Instruct\")\n",
    "\n",
    "messages = [\n",
    "    {\"role\": \"system\", \"content\": \"You are a helpful assistant.\"},\n",
    "    {\"role\": \"user\", \"content\": \"Hello!\"},\n",
    "]\n",
    "\n",
    "# Each will format according to its model's template\n",
    "mistral_chat = mistral_tokenizer.apply_chat_template(messages, tokenize=False)\n",
    "smol_chat = smol_tokenizer.apply_chat_template(messages, tokenize=False)"
   ]
  },
  {
   "cell_type": "code",
   "execution_count": 4,
   "id": "d599622a",
   "metadata": {},
   "outputs": [
    {
     "data": {
      "text/plain": [
       "'<s> [INST] You are a helpful assistant.\\n\\nHello! [/INST]'"
      ]
     },
     "execution_count": 4,
     "metadata": {},
     "output_type": "execute_result"
    }
   ],
   "source": [
    "mistral_chat"
   ]
  },
  {
   "cell_type": "code",
   "execution_count": 5,
   "id": "0f3b307c",
   "metadata": {},
   "outputs": [
    {
     "data": {
      "text/plain": [
       "'<|im_start|>system\\nYou are a helpful assistant.<|im_end|>\\n<|im_start|>user\\nHello!<|im_end|>\\n'"
      ]
     },
     "execution_count": 5,
     "metadata": {},
     "output_type": "execute_result"
    }
   ],
   "source": [
    "smol_chat"
   ]
  },
  {
   "cell_type": "code",
   "execution_count": 7,
   "id": "4d9b6c51",
   "metadata": {},
   "outputs": [
    {
     "data": {
      "application/vnd.jupyter.widget-view+json": {
       "model_id": "6bfd76fabbcf427ba0d43ed91c3f856b",
       "version_major": 2,
       "version_minor": 0
      },
      "text/plain": [
       "data/systemchats-30k/train-00000-of-0000(…):   0%|          | 0.00/47.9M [00:00<?, ?B/s]"
      ]
     },
     "metadata": {},
     "output_type": "display_data"
    },
    {
     "data": {
      "application/vnd.jupyter.widget-view+json": {
       "model_id": "8657fbaa892a411685ad1adaf9780438",
       "version_major": 2,
       "version_minor": 0
      },
      "text/plain": [
       "data/systemchats-30k/test-00000-of-00001(…):   0%|          | 0.00/2.54M [00:00<?, ?B/s]"
      ]
     },
     "metadata": {},
     "output_type": "display_data"
    },
    {
     "data": {
      "application/vnd.jupyter.widget-view+json": {
       "model_id": "83d1c59eda9b40dfaf65366963951bd9",
       "version_major": 2,
       "version_minor": 0
      },
      "text/plain": [
       "Generating train split:   0%|          | 0/34133 [00:00<?, ? examples/s]"
      ]
     },
     "metadata": {},
     "output_type": "display_data"
    },
    {
     "data": {
      "application/vnd.jupyter.widget-view+json": {
       "model_id": "ce021aa8508241fe9ed17716bae51662",
       "version_major": 2,
       "version_minor": 0
      },
      "text/plain": [
       "Generating test split:   0%|          | 0/1797 [00:00<?, ? examples/s]"
      ]
     },
     "metadata": {},
     "output_type": "display_data"
    }
   ],
   "source": [
    "from datasets import load_dataset\n",
    "\n",
    "dataset = load_dataset(\"HuggingFaceTB/smoltalk\", \"systemchats-30k\")"
   ]
  },
  {
   "cell_type": "code",
   "execution_count": 17,
   "id": "a96267b0",
   "metadata": {},
   "outputs": [
    {
     "data": {
      "application/vnd.jupyter.widget-view+json": {
       "model_id": "a37c4432a8ba46e797cc34051c4c472b",
       "version_major": 2,
       "version_minor": 0
      },
      "text/plain": [
       "Map:   0%|          | 0/34133 [00:00<?, ? examples/s]"
      ]
     },
     "metadata": {},
     "output_type": "display_data"
    },
    {
     "data": {
      "application/vnd.jupyter.widget-view+json": {
       "model_id": "f1f42d68c5a747bd8574c21cab8cfcd9",
       "version_major": 2,
       "version_minor": 0
      },
      "text/plain": [
       "Map:   0%|          | 0/1797 [00:00<?, ? examples/s]"
      ]
     },
     "metadata": {},
     "output_type": "display_data"
    }
   ],
   "source": [
    "def process_function(examples):\n",
    "    processed_messages = mistral_tokenizer.apply_chat_template(\n",
    "        examples[\"messages\"], tokenize=False, add_generation_prompt=True\n",
    "    )\n",
    "    return {\"mistral_messages\": processed_messages}\n",
    "\n",
    "processed_dataset = dataset.map(\n",
    "    process_function,\n",
    "    batched=True,\n",
    ")"
   ]
  },
  {
   "cell_type": "code",
   "execution_count": 20,
   "id": "012bb5b7",
   "metadata": {},
   "outputs": [
    {
     "data": {
      "text/plain": [
       "[{'content': 'Always respond with an emoji at the end', 'role': 'system'},\n",
       " {'content': 'Can you help me draft a tweet about the beautiful sunset I saw today at the beach? I want to include a sense of tranquility and inspiration in the message.',\n",
       "  'role': 'user'},\n",
       " {'content': '\"Embraced by the tranquil whisper of the waves, I watched as the sky turned into a canvas of warm hues. A beautiful sunset at the beach today, painting a picture of inspiration and serenity. 🌅\"',\n",
       "  'role': 'assistant'},\n",
       " {'content': \"That's a beautiful tweet, thank you! Can you now show me how to post it on Twitter?\",\n",
       "  'role': 'user'},\n",
       " {'content': \"Sure! Here are the steps:\\n\\n1. Open the Twitter app or website. \\n2. Click on the 'Tweet' button (it's a blue circle with a feather in it).\\n3. Copy and paste the tweet I crafted into the text box that appears.\\n4. When you're ready, click the 'Tweet' button to post it.\\n\\nRemember, Twitter has a character limit of 280 characters per tweet. Enjoy tweeting! 😊\",\n",
       "  'role': 'assistant'}]"
      ]
     },
     "execution_count": 20,
     "metadata": {},
     "output_type": "execute_result"
    }
   ],
   "source": [
    "processed_dataset[\"train\"][0][\"messages\"]"
   ]
  },
  {
   "cell_type": "code",
   "execution_count": 22,
   "id": "ae5c9297",
   "metadata": {},
   "outputs": [
    {
     "data": {
      "text/plain": [
       "'<s> [INST] Always respond with an emoji at the end\\n\\nCan you help me draft a tweet about the beautiful sunset I saw today at the beach? I want to include a sense of tranquility and inspiration in the message. [/INST] \"Embraced by the tranquil whisper of the waves, I watched as the sky turned into a canvas of warm hues. A beautiful sunset at the beach today, painting a picture of inspiration and serenity. 🌅\"</s> [INST] That\\'s a beautiful tweet, thank you! Can you now show me how to post it on Twitter? [/INST] Sure! Here are the steps:\\n\\n1. Open the Twitter app or website. \\n2. Click on the \\'Tweet\\' button (it\\'s a blue circle with a feather in it).\\n3. Copy and paste the tweet I crafted into the text box that appears.\\n4. When you\\'re ready, click the \\'Tweet\\' button to post it.\\n\\nRemember, Twitter has a character limit of 280 characters per tweet. Enjoy tweeting! 😊</s>'"
      ]
     },
     "execution_count": 22,
     "metadata": {},
     "output_type": "execute_result"
    }
   ],
   "source": [
    "processed_dataset[\"train\"][0][\"mistral_messages\"]"
   ]
  },
  {
   "cell_type": "code",
   "execution_count": null,
   "id": "706a8aa1",
   "metadata": {},
   "outputs": [],
   "source": []
  }
 ],
 "metadata": {
  "kernelspec": {
   "display_name": "llm-course-py3.11",
   "language": "python",
   "name": "python3"
  },
  "language_info": {
   "codemirror_mode": {
    "name": "ipython",
    "version": 3
   },
   "file_extension": ".py",
   "mimetype": "text/x-python",
   "name": "python",
   "nbconvert_exporter": "python",
   "pygments_lexer": "ipython3",
   "version": "3.11.1"
  }
 },
 "nbformat": 4,
 "nbformat_minor": 5
}
