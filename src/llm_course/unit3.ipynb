{
 "cells": [
  {
   "cell_type": "markdown",
   "id": "42b47820",
   "metadata": {},
   "source": [
    "# Fine-tuning"
   ]
  },
  {
   "cell_type": "markdown",
   "id": "1e558e38",
   "metadata": {},
   "source": [
    "## load datasets"
   ]
  },
  {
   "cell_type": "code",
   "execution_count": 1,
   "id": "3d55c11b",
   "metadata": {},
   "outputs": [
    {
     "data": {
      "text/plain": [
       "DatasetDict({\n",
       "    train: Dataset({\n",
       "        features: ['sentence1', 'sentence2', 'label', 'idx'],\n",
       "        num_rows: 3668\n",
       "    })\n",
       "    validation: Dataset({\n",
       "        features: ['sentence1', 'sentence2', 'label', 'idx'],\n",
       "        num_rows: 408\n",
       "    })\n",
       "    test: Dataset({\n",
       "        features: ['sentence1', 'sentence2', 'label', 'idx'],\n",
       "        num_rows: 1725\n",
       "    })\n",
       "})"
      ]
     },
     "execution_count": 1,
     "metadata": {},
     "output_type": "execute_result"
    }
   ],
   "source": [
    "from datasets import load_dataset\n",
    "\n",
    "raw_datasets = load_dataset(\"glue\", \"mrpc\")\n",
    "raw_datasets\n"
   ]
  },
  {
   "cell_type": "markdown",
   "id": "7c7a6ed2",
   "metadata": {},
   "source": [
    "## Preprocessing (tokenization + padding)"
   ]
  },
  {
   "cell_type": "code",
   "execution_count": 2,
   "id": "e283a3a8",
   "metadata": {},
   "outputs": [],
   "source": [
    "from transformers import AutoTokenizer, DataCollatorWithPadding\n",
    "\n",
    "checkpoint = \"bert-base-uncased\"\n",
    "tokenizer = AutoTokenizer.from_pretrained(checkpoint)\n",
    "data_collator = DataCollatorWithPadding(tokenizer=tokenizer)\n",
    "\n",
    "def tokenize_function(examples):\n",
    "    return tokenizer(\n",
    "        examples[\"sentence1\"],\n",
    "        examples[\"sentence2\"],\n",
    "        truncation=True)\n",
    "tokenized_datasets = raw_datasets.map(\n",
    "    tokenize_function,\n",
    "    batched=True,\n",
    ")\n",
    "tokenized_datasets = tokenized_datasets.remove_columns(\n",
    "    [\"sentence1\", \"sentence2\", \"idx\"]\n",
    ")\n",
    "tokenized_datasets = tokenized_datasets.rename_column(\n",
    "    \"label\", \"labels\"\n",
    ")\n"
   ]
  },
  {
   "cell_type": "markdown",
   "id": "deb9a257",
   "metadata": {},
   "source": [
    "## Load the model"
   ]
  },
  {
   "cell_type": "code",
   "execution_count": 3,
   "id": "e311f192",
   "metadata": {},
   "outputs": [
    {
     "name": "stderr",
     "output_type": "stream",
     "text": [
      "Some weights of BertForSequenceClassification were not initialized from the model checkpoint at bert-base-uncased and are newly initialized: ['classifier.bias', 'classifier.weight']\n",
      "You should probably TRAIN this model on a down-stream task to be able to use it for predictions and inference.\n"
     ]
    }
   ],
   "source": [
    "from transformers import AutoModelForSequenceClassification\n",
    "\n",
    "model = AutoModelForSequenceClassification.from_pretrained(checkpoint, num_labels=2)"
   ]
  },
  {
   "cell_type": "markdown",
   "id": "a0f7443d",
   "metadata": {},
   "source": [
    "## Load the metrics"
   ]
  },
  {
   "cell_type": "code",
   "execution_count": 4,
   "id": "0f83293e",
   "metadata": {},
   "outputs": [],
   "source": [
    "import evaluate\n",
    "\n",
    "metric = evaluate.load(\"glue\", \"mrpc\")"
   ]
  },
  {
   "cell_type": "code",
   "execution_count": 5,
   "id": "e3c86396",
   "metadata": {},
   "outputs": [],
   "source": [
    "import numpy as np\n",
    "\n",
    "def compute_metrics(eval_preds):\n",
    "    logits, labels = eval_preds\n",
    "    predictions = np.argmax(logits, axis=-1)\n",
    "    return metric.compute(predictions=predictions, references=labels)"
   ]
  },
  {
   "cell_type": "markdown",
   "id": "b702c8a3",
   "metadata": {},
   "source": [
    "## Baseline results"
   ]
  },
  {
   "cell_type": "code",
   "execution_count": 6,
   "id": "848464c3",
   "metadata": {},
   "outputs": [],
   "source": [
    "# Test the current model on the validation set\n",
    "from transformers import Trainer, TrainingArguments\n",
    "\n",
    "training_args = TrainingArguments(\"test-trainer\", eval_strategy=\"epoch\")\n",
    "\n",
    "trainer = Trainer(\n",
    "    model=model,\n",
    "    args=training_args,\n",
    "    train_dataset=raw_datasets[\"train\"],\n",
    "    eval_dataset=raw_datasets[\"validation\"],\n",
    "    compute_metrics=compute_metrics,\n",
    "    data_collator=data_collator,\n",
    "    processing_class=tokenizer,\n",
    ")"
   ]
  },
  {
   "cell_type": "code",
   "execution_count": 7,
   "id": "be3a45eb",
   "metadata": {},
   "outputs": [
    {
     "name": "stderr",
     "output_type": "stream",
     "text": [
      "/Users/nivvaknin/Desktop/LLM-course/.venv/lib/python3.11/site-packages/torch/utils/data/dataloader.py:683: UserWarning: 'pin_memory' argument is set as true but not supported on MPS now, then device pinned memory won't be used.\n",
      "  warnings.warn(warn_msg)\n"
     ]
    },
    {
     "data": {
      "text/html": [
       "\n",
       "    <div>\n",
       "      \n",
       "      <progress value='216' max='216' style='width:300px; height:20px; vertical-align: middle;'></progress>\n",
       "      [216/216 00:11]\n",
       "    </div>\n",
       "    "
      ],
      "text/plain": [
       "<IPython.core.display.HTML object>"
      ]
     },
     "metadata": {},
     "output_type": "display_data"
    },
    {
     "data": {
      "text/plain": [
       "{'eval_loss': 0.6545491814613342,\n",
       " 'eval_model_preparation_time': 0.0044,\n",
       " 'eval_accuracy': 0.664927536231884,\n",
       " 'eval_f1': 0.7987465181058496,\n",
       " 'eval_runtime': 11.4425,\n",
       " 'eval_samples_per_second': 150.754,\n",
       " 'eval_steps_per_second': 18.877}"
      ]
     },
     "execution_count": 7,
     "metadata": {},
     "output_type": "execute_result"
    }
   ],
   "source": [
    "trainer.evaluate(tokenized_datasets[\"test\"])"
   ]
  },
  {
   "cell_type": "code",
   "execution_count": 8,
   "id": "0d1a33cf",
   "metadata": {},
   "outputs": [
    {
     "name": "stderr",
     "output_type": "stream",
     "text": [
      "Device set to use mps:0\n"
     ]
    },
    {
     "name": "stdout",
     "output_type": "stream",
     "text": [
      "Sentence 1: PCCW 's chief operating officer , Mike Butcher , and Alex Arena , the chief financial officer , will report directly to Mr So .\n",
      "Sentence 2: Current Chief Operating Officer Mike Butcher and Group Chief Financial Officer Alex Arena will report to So .\n",
      "Label: 1\n",
      "Prediction: [{'label': 'LABEL_1', 'score': 0.5593006610870361}]\n",
      "\n",
      "Sentence 1: The world 's two largest automakers said their U.S. sales declined more than predicted last month as a late summer sales frenzy caused more of an industry backlash than expected .\n",
      "Sentence 2: Domestic sales at both GM and No. 2 Ford Motor Co. declined more than predicted as a late summer sales frenzy prompted a larger-than-expected industry backlash .\n",
      "Label: 1\n",
      "Prediction: [{'label': 'LABEL_1', 'score': 0.566108763217926}]\n",
      "\n",
      "Sentence 1: According to the federal Centers for Disease Control and Prevention ( news - web sites ) , there were 19 reported cases of measles in the United States in 2002 .\n",
      "Sentence 2: The Centers for Disease Control and Prevention said there were 19 reported cases of measles in the United States in 2002 .\n",
      "Label: 1\n",
      "Prediction: [{'label': 'LABEL_1', 'score': 0.5857577323913574}]\n",
      "\n",
      "Sentence 1: A tropical storm rapidly developed in the Gulf of Mexico Sunday and was expected to hit somewhere along the Texas or Louisiana coasts by Monday night .\n",
      "Sentence 2: A tropical storm rapidly developed in the Gulf of Mexico on Sunday and could have hurricane-force winds when it hits land somewhere along the Louisiana coast Monday night .\n",
      "Label: 0\n",
      "Prediction: [{'label': 'LABEL_1', 'score': 0.5794035196304321}]\n",
      "\n",
      "Sentence 1: The company didn 't detail the costs of the replacement and repairs .\n",
      "Sentence 2: But company officials expect the costs of the replacement work to run into the millions of dollars .\n",
      "Label: 0\n",
      "Prediction: [{'label': 'LABEL_1', 'score': 0.5945451259613037}]\n",
      "\n",
      "Sentence 1: The settling companies would also assign their possible claims against the underwriters to the investor plaintiffs , he added .\n",
      "Sentence 2: Under the agreement , the settling companies will also assign their potential claims against the underwriters to the investors , he added .\n",
      "Label: 1\n",
      "Prediction: [{'label': 'LABEL_1', 'score': 0.5949472784996033}]\n",
      "\n",
      "Sentence 1: Air Commodore Quaife said the Hornets remained on three-minute alert throughout the operation .\n",
      "Sentence 2: Air Commodore John Quaife said the security operation was unprecedented .\n",
      "Label: 0\n",
      "Prediction: [{'label': 'LABEL_1', 'score': 0.58840411901474}]\n",
      "\n",
      "Sentence 1: A Washington County man may have the countys first human case of West Nile virus , the health department said Friday .\n",
      "Sentence 2: The countys first and only human case of West Nile this year was confirmed by health officials on Sept . 8 .\n",
      "Label: 1\n",
      "Prediction: [{'label': 'LABEL_1', 'score': 0.5988757014274597}]\n",
      "\n",
      "Sentence 1: Moseley and a senior aide delivered their summary assessments to about 300 American and allied military officers on Thursday .\n",
      "Sentence 2: General Moseley and a senior aide presented their assessments at an internal briefing for American and allied military officers at Nellis Air Force Base in Nevada on Thursday .\n",
      "Label: 1\n",
      "Prediction: [{'label': 'LABEL_1', 'score': 0.5742117762565613}]\n",
      "\n",
      "Sentence 1: The broader Standard & Poor 's 500 Index < .SPX > was 0.46 points lower , or 0.05 percent , at 997.02 .\n",
      "Sentence 2: The technology-laced Nasdaq Composite Index .IXIC was up 7.42 points , or 0.45 percent , at 1,653.44 .\n",
      "Label: 0\n",
      "Prediction: [{'label': 'LABEL_1', 'score': 0.5652323961257935}]\n",
      "\n"
     ]
    }
   ],
   "source": [
    "# Test the model on few examples of the test set\n",
    "from transformers import pipeline\n",
    "classifier = pipeline(\"text-classification\", model=model, tokenizer=tokenizer)\n",
    "examples = raw_datasets[\"test\"][:10]\n",
    "\n",
    "for sentence1, sentence2, lable in zip(\n",
    "    examples[\"sentence1\"], examples[\"sentence2\"], examples[\"label\"]\n",
    "):\n",
    "    print(f\"Sentence 1: {sentence1}\")\n",
    "    print(f\"Sentence 2: {sentence2}\")\n",
    "    print(f\"Label: {lable}\")\n",
    "    print(\"Prediction:\", classifier(f\"{sentence1} [SEP] {sentence2}\"))\n",
    "    print()"
   ]
  },
  {
   "cell_type": "markdown",
   "id": "e620407b",
   "metadata": {},
   "source": [
    "## Fine-tuning"
   ]
  },
  {
   "cell_type": "code",
   "execution_count": 9,
   "id": "d21ef867",
   "metadata": {},
   "outputs": [],
   "source": [
    "from transformers import Trainer, TrainingArguments"
   ]
  },
  {
   "cell_type": "code",
   "execution_count": 10,
   "id": "deb0f37c",
   "metadata": {},
   "outputs": [],
   "source": [
    "training_args = TrainingArguments(\"test-trainer\", eval_strategy=\"epoch\")\n",
    "\n",
    "trainer = Trainer(\n",
    "    model,\n",
    "    training_args,\n",
    "    train_dataset=tokenized_datasets[\"train\"],\n",
    "    eval_dataset=tokenized_datasets[\"validation\"],\n",
    "    data_collator=data_collator,\n",
    "    processing_class=tokenizer,\n",
    "    compute_metrics=compute_metrics,\n",
    ")\n"
   ]
  },
  {
   "cell_type": "code",
   "execution_count": 11,
   "id": "311b6dad",
   "metadata": {},
   "outputs": [
    {
     "name": "stderr",
     "output_type": "stream",
     "text": [
      "/Users/nivvaknin/Desktop/LLM-course/.venv/lib/python3.11/site-packages/torch/utils/data/dataloader.py:683: UserWarning: 'pin_memory' argument is set as true but not supported on MPS now, then device pinned memory won't be used.\n",
      "  warnings.warn(warn_msg)\n"
     ]
    },
    {
     "data": {
      "text/html": [
       "\n",
       "    <div>\n",
       "      \n",
       "      <progress value='1377' max='1377' style='width:300px; height:20px; vertical-align: middle;'></progress>\n",
       "      [1377/1377 04:55, Epoch 3/3]\n",
       "    </div>\n",
       "    <table border=\"1\" class=\"dataframe\">\n",
       "  <thead>\n",
       " <tr style=\"text-align: left;\">\n",
       "      <th>Epoch</th>\n",
       "      <th>Training Loss</th>\n",
       "      <th>Validation Loss</th>\n",
       "      <th>Accuracy</th>\n",
       "      <th>F1</th>\n",
       "    </tr>\n",
       "  </thead>\n",
       "  <tbody>\n",
       "    <tr>\n",
       "      <td>1</td>\n",
       "      <td>No log</td>\n",
       "      <td>0.384006</td>\n",
       "      <td>0.821078</td>\n",
       "      <td>0.877311</td>\n",
       "    </tr>\n",
       "    <tr>\n",
       "      <td>2</td>\n",
       "      <td>0.529100</td>\n",
       "      <td>0.424660</td>\n",
       "      <td>0.862745</td>\n",
       "      <td>0.902098</td>\n",
       "    </tr>\n",
       "    <tr>\n",
       "      <td>3</td>\n",
       "      <td>0.295300</td>\n",
       "      <td>0.653003</td>\n",
       "      <td>0.852941</td>\n",
       "      <td>0.896194</td>\n",
       "    </tr>\n",
       "  </tbody>\n",
       "</table><p>"
      ],
      "text/plain": [
       "<IPython.core.display.HTML object>"
      ]
     },
     "metadata": {},
     "output_type": "display_data"
    },
    {
     "name": "stderr",
     "output_type": "stream",
     "text": [
      "/Users/nivvaknin/Desktop/LLM-course/.venv/lib/python3.11/site-packages/torch/utils/data/dataloader.py:683: UserWarning: 'pin_memory' argument is set as true but not supported on MPS now, then device pinned memory won't be used.\n",
      "  warnings.warn(warn_msg)\n",
      "/Users/nivvaknin/Desktop/LLM-course/.venv/lib/python3.11/site-packages/torch/utils/data/dataloader.py:683: UserWarning: 'pin_memory' argument is set as true but not supported on MPS now, then device pinned memory won't be used.\n",
      "  warnings.warn(warn_msg)\n",
      "/Users/nivvaknin/Desktop/LLM-course/.venv/lib/python3.11/site-packages/torch/utils/data/dataloader.py:683: UserWarning: 'pin_memory' argument is set as true but not supported on MPS now, then device pinned memory won't be used.\n",
      "  warnings.warn(warn_msg)\n",
      "/Users/nivvaknin/Desktop/LLM-course/.venv/lib/python3.11/site-packages/torch/utils/data/dataloader.py:683: UserWarning: 'pin_memory' argument is set as true but not supported on MPS now, then device pinned memory won't be used.\n",
      "  warnings.warn(warn_msg)\n"
     ]
    },
    {
     "data": {
      "text/plain": [
       "TrainOutput(global_step=1377, training_loss=0.3377254655072026, metrics={'train_runtime': 296.5983, 'train_samples_per_second': 37.101, 'train_steps_per_second': 4.643, 'total_flos': 405114969714960.0, 'train_loss': 0.3377254655072026, 'epoch': 3.0})"
      ]
     },
     "execution_count": 11,
     "metadata": {},
     "output_type": "execute_result"
    }
   ],
   "source": [
    "trainer.train()"
   ]
  },
  {
   "cell_type": "code",
   "execution_count": 12,
   "id": "caa8abbd",
   "metadata": {},
   "outputs": [
    {
     "name": "stderr",
     "output_type": "stream",
     "text": [
      "/Users/nivvaknin/Desktop/LLM-course/.venv/lib/python3.11/site-packages/torch/utils/data/dataloader.py:683: UserWarning: 'pin_memory' argument is set as true but not supported on MPS now, then device pinned memory won't be used.\n",
      "  warnings.warn(warn_msg)\n"
     ]
    },
    {
     "data": {
      "text/html": [
       "\n",
       "    <div>\n",
       "      \n",
       "      <progress value='216' max='216' style='width:300px; height:20px; vertical-align: middle;'></progress>\n",
       "      [216/216 00:09]\n",
       "    </div>\n",
       "    "
      ],
      "text/plain": [
       "<IPython.core.display.HTML object>"
      ]
     },
     "metadata": {},
     "output_type": "display_data"
    },
    {
     "data": {
      "text/plain": [
       "{'eval_loss': 0.6925812363624573,\n",
       " 'eval_accuracy': 0.8504347826086956,\n",
       " 'eval_f1': 0.8924103419516264,\n",
       " 'eval_runtime': 9.7401,\n",
       " 'eval_samples_per_second': 177.104,\n",
       " 'eval_steps_per_second': 22.176,\n",
       " 'epoch': 3.0}"
      ]
     },
     "execution_count": 12,
     "metadata": {},
     "output_type": "execute_result"
    }
   ],
   "source": [
    "\n",
    "trainer.evaluate(tokenized_datasets[\"test\"])\n"
   ]
  },
  {
   "cell_type": "code",
   "execution_count": 13,
   "id": "10cb8bee",
   "metadata": {},
   "outputs": [
    {
     "name": "stderr",
     "output_type": "stream",
     "text": [
      "Device set to use mps:0\n"
     ]
    },
    {
     "name": "stdout",
     "output_type": "stream",
     "text": [
      "Sentence 1: PCCW 's chief operating officer , Mike Butcher , and Alex Arena , the chief financial officer , will report directly to Mr So .\n",
      "Sentence 2: Current Chief Operating Officer Mike Butcher and Group Chief Financial Officer Alex Arena will report to So .\n",
      "Label: 1\n",
      "Prediction: [{'label': 'LABEL_0', 'score': 0.9873570203781128}]\n",
      "\n",
      "Sentence 1: The world 's two largest automakers said their U.S. sales declined more than predicted last month as a late summer sales frenzy caused more of an industry backlash than expected .\n",
      "Sentence 2: Domestic sales at both GM and No. 2 Ford Motor Co. declined more than predicted as a late summer sales frenzy prompted a larger-than-expected industry backlash .\n",
      "Label: 1\n",
      "Prediction: [{'label': 'LABEL_0', 'score': 0.9931199550628662}]\n",
      "\n",
      "Sentence 1: According to the federal Centers for Disease Control and Prevention ( news - web sites ) , there were 19 reported cases of measles in the United States in 2002 .\n",
      "Sentence 2: The Centers for Disease Control and Prevention said there were 19 reported cases of measles in the United States in 2002 .\n",
      "Label: 1\n",
      "Prediction: [{'label': 'LABEL_1', 'score': 0.9935619831085205}]\n",
      "\n",
      "Sentence 1: A tropical storm rapidly developed in the Gulf of Mexico Sunday and was expected to hit somewhere along the Texas or Louisiana coasts by Monday night .\n",
      "Sentence 2: A tropical storm rapidly developed in the Gulf of Mexico on Sunday and could have hurricane-force winds when it hits land somewhere along the Louisiana coast Monday night .\n",
      "Label: 0\n",
      "Prediction: [{'label': 'LABEL_0', 'score': 0.9877272844314575}]\n",
      "\n",
      "Sentence 1: The company didn 't detail the costs of the replacement and repairs .\n",
      "Sentence 2: But company officials expect the costs of the replacement work to run into the millions of dollars .\n",
      "Label: 0\n",
      "Prediction: [{'label': 'LABEL_0', 'score': 0.996107280254364}]\n",
      "\n",
      "Sentence 1: The settling companies would also assign their possible claims against the underwriters to the investor plaintiffs , he added .\n",
      "Sentence 2: Under the agreement , the settling companies will also assign their potential claims against the underwriters to the investors , he added .\n",
      "Label: 1\n",
      "Prediction: [{'label': 'LABEL_1', 'score': 0.985352098941803}]\n",
      "\n",
      "Sentence 1: Air Commodore Quaife said the Hornets remained on three-minute alert throughout the operation .\n",
      "Sentence 2: Air Commodore John Quaife said the security operation was unprecedented .\n",
      "Label: 0\n",
      "Prediction: [{'label': 'LABEL_0', 'score': 0.9949210286140442}]\n",
      "\n",
      "Sentence 1: A Washington County man may have the countys first human case of West Nile virus , the health department said Friday .\n",
      "Sentence 2: The countys first and only human case of West Nile this year was confirmed by health officials on Sept . 8 .\n",
      "Label: 1\n",
      "Prediction: [{'label': 'LABEL_0', 'score': 0.9087021946907043}]\n",
      "\n",
      "Sentence 1: Moseley and a senior aide delivered their summary assessments to about 300 American and allied military officers on Thursday .\n",
      "Sentence 2: General Moseley and a senior aide presented their assessments at an internal briefing for American and allied military officers at Nellis Air Force Base in Nevada on Thursday .\n",
      "Label: 1\n",
      "Prediction: [{'label': 'LABEL_0', 'score': 0.988304615020752}]\n",
      "\n",
      "Sentence 1: The broader Standard & Poor 's 500 Index < .SPX > was 0.46 points lower , or 0.05 percent , at 997.02 .\n",
      "Sentence 2: The technology-laced Nasdaq Composite Index .IXIC was up 7.42 points , or 0.45 percent , at 1,653.44 .\n",
      "Label: 0\n",
      "Prediction: [{'label': 'LABEL_0', 'score': 0.9957925081253052}]\n",
      "\n"
     ]
    }
   ],
   "source": [
    "# Test the model on few examples of the test set\n",
    "from transformers import pipeline\n",
    "classifier = pipeline(\"text-classification\", model=model, tokenizer=tokenizer)\n",
    "examples = raw_datasets[\"test\"][:10]\n",
    "\n",
    "for sentence1, sentence2, lable in zip(\n",
    "    examples[\"sentence1\"], examples[\"sentence2\"], examples[\"label\"]\n",
    "):\n",
    "    print(f\"Sentence 1: {sentence1}\")\n",
    "    print(f\"Sentence 2: {sentence2}\")\n",
    "    print(f\"Label: {lable}\")\n",
    "    print(\"Prediction:\", classifier(f\"{sentence1} [SEP] {sentence2}\"))\n",
    "    print()"
   ]
  },
  {
   "cell_type": "code",
   "execution_count": 14,
   "id": "0403204f",
   "metadata": {},
   "outputs": [],
   "source": [
    "classifier.save_pretrained(\"mrpc-bert-base-uncased\")"
   ]
  },
  {
   "cell_type": "code",
   "execution_count": null,
   "id": "890365f6",
   "metadata": {},
   "outputs": [],
   "source": []
  }
 ],
 "metadata": {
  "kernelspec": {
   "display_name": "llm-course-py3.11",
   "language": "python",
   "name": "python3"
  },
  "language_info": {
   "codemirror_mode": {
    "name": "ipython",
    "version": 3
   },
   "file_extension": ".py",
   "mimetype": "text/x-python",
   "name": "python",
   "nbconvert_exporter": "python",
   "pygments_lexer": "ipython3",
   "version": "3.11.1"
  }
 },
 "nbformat": 4,
 "nbformat_minor": 5
}
